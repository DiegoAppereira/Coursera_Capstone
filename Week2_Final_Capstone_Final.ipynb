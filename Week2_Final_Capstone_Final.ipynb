{
 "cells": [
  {
   "cell_type": "markdown",
   "metadata": {},
   "source": [
    "# My project : Opportunity to open new Restaurant around Covent Garden in London England ."
   ]
  },
  {
   "cell_type": "markdown",
   "metadata": {},
   "source": [
    "Hi everyone, my name is Diego Pereira from England.  \n",
    "\n",
    "When i go to london for the first time, I see that many tourism spots no have a minimum of restaurants necessary or maybe is far from\n",
    "Your hotel, this can bee used not only for turism but also to people that leave near from this places.\n",
    "\n",
    "Now I will use a tourism spot Covent Garden on london into this project, here we will see how we can improve and solution the problems. \n",
    "\n",
    "so this is my inspiration in my project \"Opportunity to open new restaurant around Covent Garden in London England.\""
   ]
  },
  {
   "cell_type": "markdown",
   "metadata": {},
   "source": [
    "## Knowing the place - Convent Garden City London - Country: England "
   ]
  },
  {
   "cell_type": "markdown",
   "metadata": {},
   "source": [
    "<img src='https://upload.wikimedia.org/wikipedia/commons/thumb/f/f8/COVENT_GARDEN_MARKET_BUILDING_7482_pano_12.jpg/1024px-COVENT_GARDEN_MARKET_BUILDING_7482_pano_12.jpg'>"
   ]
  },
  {
   "cell_type": "markdown",
   "metadata": {},
   "source": [
    "## Summary of place:"
   ]
  },
  {
   "cell_type": "markdown",
   "metadata": {},
   "source": [
    "Covent Garden is a district of London, England, located in the most easterly parts of the city of Westminster, and in the south-west corner of London's borough of Camden. The area is dominated by shopping and entertainment venues, as well as street performances"
   ]
  },
  {
   "cell_type": "markdown",
   "metadata": {},
   "source": [
    "## Starting the Requeriment Data as developer on Documentation: Data_Section.doc"
   ]
  },
  {
   "cell_type": "markdown",
   "metadata": {},
   "source": [
    "1. Data number of restaurant around Covent Garden.\n",
    "2. Data location restaurant around Covent Garden.\n",
    "3. Data number of tourist or local residents on Covent Garden ( effect to size of restaurant ) . \n",
    "4. Data kind of popular food from Covent Garden. \n",
    "5. Trends of demands food from Covent Garden. \n"
   ]
  },
  {
   "cell_type": "markdown",
   "metadata": {},
   "source": [
    "## Importing Packages to Project."
   ]
  },
  {
   "cell_type": "code",
   "execution_count": 3,
   "metadata": {},
   "outputs": [
    {
     "name": "stdout",
     "output_type": "stream",
     "text": [
      "Solving environment: done\n",
      "\n",
      "## Package Plan ##\n",
      "\n",
      "  environment location: /home/jupyterlab/conda\n",
      "\n",
      "  added / updated specs: \n",
      "    - geopy\n",
      "\n",
      "\n",
      "The following packages will be downloaded:\n",
      "\n",
      "    package                    |            build\n",
      "    ---------------------------|-----------------\n",
      "    geopy-1.17.0               |             py_0          49 KB  conda-forge\n",
      "    geographiclib-1.49         |             py_0          32 KB  conda-forge\n",
      "    certifi-2018.8.24          |        py36_1001         139 KB  conda-forge\n",
      "    ------------------------------------------------------------\n",
      "                                           Total:         220 KB\n",
      "\n",
      "The following NEW packages will be INSTALLED:\n",
      "\n",
      "    geographiclib: 1.49-py_0        conda-forge\n",
      "    geopy:         1.17.0-py_0      conda-forge\n",
      "\n",
      "The following packages will be UPDATED:\n",
      "\n",
      "    certifi:       2018.8.24-py36_1 conda-forge --> 2018.8.24-py36_1001 conda-forge\n",
      "\n",
      "\n",
      "Downloading and Extracting Packages\n",
      "geopy-1.17.0         | 49 KB     | ##################################### | 100% \n",
      "geographiclib-1.49   | 32 KB     | ##################################### | 100% \n",
      "certifi-2018.8.24    | 139 KB    | ##################################### | 100% \n",
      "Preparing transaction: done\n",
      "Verifying transaction: done\n",
      "Executing transaction: done\n",
      "Solving environment: done\n",
      "\n",
      "## Package Plan ##\n",
      "\n",
      "  environment location: /home/jupyterlab/conda\n",
      "\n",
      "  added / updated specs: \n",
      "    - folium=0.5.0\n",
      "\n",
      "\n",
      "The following packages will be downloaded:\n",
      "\n",
      "    package                    |            build\n",
      "    ---------------------------|-----------------\n",
      "    folium-0.5.0               |             py_0          45 KB  conda-forge\n",
      "    altair-2.2.2               |           py36_1         461 KB  conda-forge\n",
      "    branca-0.3.0               |             py_0          24 KB  conda-forge\n",
      "    vincent-0.4.4              |             py_1          28 KB  conda-forge\n",
      "    ------------------------------------------------------------\n",
      "                                           Total:         558 KB\n",
      "\n",
      "The following NEW packages will be INSTALLED:\n",
      "\n",
      "    altair:  2.2.2-py36_1 conda-forge\n",
      "    branca:  0.3.0-py_0   conda-forge\n",
      "    folium:  0.5.0-py_0   conda-forge\n",
      "    vincent: 0.4.4-py_1   conda-forge\n",
      "\n",
      "\n",
      "Downloading and Extracting Packages\n",
      "folium-0.5.0         | 45 KB     | ##################################### | 100% \n",
      "altair-2.2.2         | 461 KB    | ##################################### | 100% \n",
      "branca-0.3.0         | 24 KB     | ##################################### | 100% \n",
      "vincent-0.4.4        | 28 KB     | ##################################### | 100% \n",
      "Preparing transaction: done\n",
      "Verifying transaction: done\n",
      "Executing transaction: done\n",
      "Folium installed\n",
      "Libraries imported.\n"
     ]
    }
   ],
   "source": [
    "!conda install -c conda-forge geopy --yes \n",
    "from geopy.geocoders import Nominatim # module to convert an address into latitude and longitude values\n",
    "import requests # library to handle requests\n",
    "import pandas as pd # library for data analsysis\n",
    "import numpy as np # library to handle data in a vectorized manner\n",
    "import random # library for random number generation\n",
    "\n",
    "# libraries for displaying images\n",
    "from IPython.display import Image \n",
    "from IPython.core.display import HTML \n",
    "    \n",
    "# tranforming json file into a pandas dataframe library\n",
    "from pandas.io.json import json_normalize\n",
    "\n",
    "!conda install -c conda-forge folium=0.5.0 --yes\n",
    "import folium # plotting library\n",
    "\n",
    "print('Folium installed')\n",
    "print('Libraries imported.')"
   ]
  },
  {
   "cell_type": "markdown",
   "metadata": {},
   "source": [
    "## Client ID to Foursquare:"
   ]
  },
  {
   "cell_type": "code",
   "execution_count": 1,
   "metadata": {},
   "outputs": [
    {
     "name": "stdout",
     "output_type": "stream",
     "text": [
      "Your credentails:\n",
      "CLIENT_ID: x1\n",
      "CLIENT_SECRET:x2\n",
      "\n"
     ]
    }
   ],
   "source": [
    "CLIENT_ID = 'x1' # your Foursquare ID\n",
    "CLIENT_SECRET = 'x2' # your Foursquare Secret\n",
    "VERSION = '20181001'\n",
    "LIMIT = 30\n",
    "print('Your credentails:')\n",
    "print('CLIENT_ID: ' + CLIENT_ID)\n",
    "print('CLIENT_SECRET:' + CLIENT_SECRET)\n",
    "print('')"
   ]
  },
  {
   "cell_type": "markdown",
   "metadata": {},
   "source": [
    "## Find the Tourism spot Covent Garden"
   ]
  },
  {
   "cell_type": "code",
   "execution_count": 4,
   "metadata": {},
   "outputs": [
    {
     "name": "stderr",
     "output_type": "stream",
     "text": [
      "/home/jupyterlab/conda/lib/python3.6/site-packages/geopy/geocoders/osm.py:143: UserWarning: Using Nominatim with the default \"geopy/1.17.0\" `user_agent` is strongly discouraged, as it violates Nominatim's ToS https://operations.osmfoundation.org/policies/nominatim/ and may possibly cause 403 and 429 HTTP errors. Please specify a custom `user_agent` with `Nominatim(user_agent=\"my-application\")` or by overriding the default `user_agent`: `geopy.geocoders.options.default_user_agent = \"my-application\"`. In geopy 2.0 this will become an exception.\n",
      "  UserWarning\n"
     ]
    },
    {
     "name": "stdout",
     "output_type": "stream",
     "text": [
      "51.5129017 -0.122529138564169\n"
     ]
    }
   ],
   "source": [
    "address = 'Covent Garden,london'\n",
    "\n",
    "geolocator = Nominatim()\n",
    "location = geolocator.geocode(address)\n",
    "latitude = location.latitude\n",
    "longitude = location.longitude\n",
    "print(latitude, longitude)"
   ]
  },
  {
   "cell_type": "markdown",
   "metadata": {},
   "source": [
    "## First Look on Around Cover Garden on MAP Of Location:"
   ]
  },
  {
   "cell_type": "code",
   "execution_count": 18,
   "metadata": {},
   "outputs": [
    {
     "data": {
      "text/html": [
       "<div style=\"width:100%;\"><div style=\"position:relative;width:100%;height:0;padding-bottom:60%;\"><iframe src=\"data:text/html;charset=utf-8;base64,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\" style=\"position:absolute;width:100%;height:100%;left:0;top:0;border:none !important;\" allowfullscreen webkitallowfullscreen mozallowfullscreen></iframe></div></div>"
      ],
      "text/plain": [
       "<folium.folium.Map at 0x7f439c64c940>"
      ]
     },
     "execution_count": 18,
     "metadata": {},
     "output_type": "execute_result"
    }
   ],
   "source": [
    "Vnus_map = folium.Map(location=[latitude, longitude], zoom_start=13) # generate a map centred around of the Conrad Hotel\n",
    "# and also i am add a red circle marker to represent the Conrad Hotel\n",
    "folium.features.CircleMarker(\n",
    "    [latitude, longitude],\n",
    "    radius=200,\n",
    "    color='blue',\n",
    "    popup='Radio of Covent Garden',\n",
    "    fill = True,\n",
    "    fill_color = 'white',\n",
    "    fill_opacity = 0.6\n",
    ").add_to(Vnus_map)\n",
    "\n",
    "\n",
    "Vnus_map"
   ]
  },
  {
   "cell_type": "markdown",
   "metadata": {},
   "source": [
    "## Setup of List Restaurant of London:"
   ]
  },
  {
   "cell_type": "code",
   "execution_count": 20,
   "metadata": {},
   "outputs": [],
   "source": [
    "fran_query = 'French'\n",
    "jap_query = 'japanese'\n",
    "bras_query = 'Brazilian'\n",
    "italian_query = 'italian'\n",
    "radius = 800"
   ]
  },
  {
   "cell_type": "markdown",
   "metadata": {},
   "source": [
    "## Getting information from Foursquare"
   ]
  },
  {
   "cell_type": "code",
   "execution_count": 21,
   "metadata": {},
   "outputs": [],
   "source": [
    "fran_url = 'https://api.foursquare.com/v2/venues/search?client_id={}&client_secret={}&ll={},{}&v={}&query={}&radius={}&limit={}'.format(CLIENT_ID, CLIENT_SECRET, latitude, longitude, VERSION, fran_query, radius, LIMIT)\n",
    "jap_url = 'https://api.foursquare.com/v2/venues/search?client_id={}&client_secret={}&ll={},{}&v={}&query={}&radius={}&limit={}'.format(CLIENT_ID, CLIENT_SECRET, latitude, longitude, VERSION, jap_query, radius, LIMIT)\n",
    "brasilian_url = 'https://api.foursquare.com/v2/venues/search?client_id={}&client_secret={}&ll={},{}&v={}&query={}&radius={}&limit={}'.format(CLIENT_ID, CLIENT_SECRET, latitude, longitude, VERSION, bras_query, radius, LIMIT)\n",
    "italian_url = 'https://api.foursquare.com/v2/venues/search?client_id={}&client_secret={}&ll={},{}&v={}&query={}&radius={}&limit={}'.format(CLIENT_ID, CLIENT_SECRET, latitude, longitude, VERSION, italian_query, radius, LIMIT)"
   ]
  },
  {
   "cell_type": "code",
   "execution_count": 23,
   "metadata": {},
   "outputs": [
    {
     "name": "stdout",
     "output_type": "stream",
     "text": [
      "{'meta': {'code': 200, 'requestId': '5bb63a856a6071445a4b2bb3'}, 'response': {'venues': [{'id': '4ac518d7f964a52057a820e3', 'name': 'French House', 'location': {'address': '49 Dean St', 'lat': 51.51269765345961, 'lng': -0.13183020580377586, 'labeledLatLngs': [{'label': 'display', 'lat': 51.51269765345961, 'lng': -0.13183020580377586}], 'distance': 644, 'postalCode': 'W1D 5BG', 'cc': 'GB', 'city': 'London', 'state': 'Greater London', 'country': 'United Kingdom', 'formattedAddress': ['49 Dean St', 'London', 'Greater London', 'W1D 5BG', 'United Kingdom']}, 'categories': [{'id': '4bf58dd8d48988d11b941735', 'name': 'Pub', 'pluralName': 'Pubs', 'shortName': 'Pub', 'icon': {'prefix': 'https://ss3.4sqi.net/img/categories_v2/nightlife/pub_', 'suffix': '.png'}, 'primary': True}], 'referralId': 'v-1538669189', 'hasPerk': False}, {'id': '4d650a7989238cfac03f9436', 'name': 'French Chamber of Commerce in Great Britain', 'location': {'lat': 51.51818321346129, 'lng': -0.11472675737515926, 'labeledLatLngs': [{'label': 'display', 'lat': 51.51818321346129, 'lng': -0.11472675737515926}], 'distance': 798, 'cc': 'GB', 'city': 'London', 'state': 'Greater London', 'country': 'United Kingdom', 'formattedAddress': ['London', 'Greater London', 'United Kingdom']}, 'categories': [{'id': '4bf58dd8d48988d130941735', 'name': 'Building', 'pluralName': 'Buildings', 'shortName': 'Building', 'icon': {'prefix': 'https://ss3.4sqi.net/img/categories_v2/building/default_', 'suffix': '.png'}, 'primary': True}], 'referralId': 'v-1538669189', 'hasPerk': False}, {'id': '4c17b5494ff90f47894e0d49', 'name': 'French Connection', 'location': {'address': '99-103 Long Acre', 'lat': 51.51342850019589, 'lng': -0.12380741139425663, 'labeledLatLngs': [{'label': 'display', 'lat': 51.51342850019589, 'lng': -0.12380741139425663}], 'distance': 106, 'postalCode': 'WC2E 9NR', 'cc': 'GB', 'city': 'London', 'state': 'Greater London', 'country': 'United Kingdom', 'formattedAddress': ['99-103 Long Acre', 'London', 'Greater London', 'WC2E 9NR', 'United Kingdom']}, 'categories': [{'id': '4bf58dd8d48988d103951735', 'name': 'Clothing Store', 'pluralName': 'Clothing Stores', 'shortName': 'Apparel', 'icon': {'prefix': 'https://ss3.4sqi.net/img/categories_v2/shops/apparel_', 'suffix': '.png'}, 'primary': True}], 'referralId': 'v-1538669189', 'hasPerk': False}, {'id': '5b630253c824ae002cca2c06', 'name': 'French Sole', 'location': {'address': '19a Floral St', 'lat': 51.512028, 'lng': -0.12502882, 'labeledLatLngs': [{'label': 'display', 'lat': 51.512028, 'lng': -0.12502882}], 'distance': 198, 'postalCode': 'WC2E 9DS', 'cc': 'GB', 'city': 'London', 'state': 'Greater London', 'country': 'United Kingdom', 'formattedAddress': ['19a Floral St', 'London', 'Greater London', 'WC2E 9DS', 'United Kingdom']}, 'categories': [{'id': '4bf58dd8d48988d103951735', 'name': 'Clothing Store', 'pluralName': 'Clothing Stores', 'shortName': 'Apparel', 'icon': {'prefix': 'https://ss3.4sqi.net/img/categories_v2/shops/apparel_', 'suffix': '.png'}, 'primary': True}], 'referralId': 'v-1538669189', 'hasPerk': False}, {'id': '4f0d886de4b0ac2737df39a0', 'name': 'French Bubbles', 'location': {'address': 'Wellington Str', 'lat': 51.511914, 'lng': -0.120104, 'labeledLatLngs': [{'label': 'display', 'lat': 51.511914, 'lng': -0.120104}], 'distance': 200, 'cc': 'GB', 'country': 'United Kingdom', 'formattedAddress': ['Wellington Str', 'United Kingdom']}, 'categories': [{'id': '4bf58dd8d48988d155941735', 'name': 'Gastropub', 'pluralName': 'Gastropubs', 'shortName': 'Gastropub', 'icon': {'prefix': 'https://ss3.4sqi.net/img/categories_v2/food/gastropub_', 'suffix': '.png'}, 'primary': True}], 'referralId': 'v-1538669189', 'hasPerk': False}, {'id': '557f40ef498ebf79953255a5', 'name': 'French Protestant Church of London', 'location': {'lat': 51.515585, 'lng': -0.132863, 'labeledLatLngs': [{'label': 'display', 'lat': 51.515585, 'lng': -0.132863}], 'distance': 775, 'cc': 'GB', 'country': 'United Kingdom', 'formattedAddress': ['United Kingdom']}, 'categories': [{'id': '4bf58dd8d48988d132941735', 'name': 'Church', 'pluralName': 'Churches', 'shortName': 'Church', 'icon': {'prefix': 'https://ss3.4sqi.net/img/categories_v2/building/religious_church_', 'suffix': '.png'}, 'primary': True}], 'referralId': 'v-1538669189', 'hasPerk': False}, {'id': '4bc341bb4cdfc9b64a0c9721', 'name': 'French Trade Commission', 'location': {'address': '28-29 Haymarket', 'lat': 51.50978, 'lng': -0.132562, 'labeledLatLngs': [{'label': 'display', 'lat': 51.50978, 'lng': -0.132562}], 'distance': 777, 'postalCode': 'S w1y', 'cc': 'GB', 'city': 'London', 'state': 'Greater London', 'country': 'United Kingdom', 'formattedAddress': ['28-29 Haymarket', 'London', 'Greater London', 'S w1y', 'United Kingdom']}, 'categories': [{'id': '4bf58dd8d48988d126941735', 'name': 'Government Building', 'pluralName': 'Government Buildings', 'shortName': 'Government', 'icon': {'prefix': 'https://ss3.4sqi.net/img/categories_v2/building/government_', 'suffix': '.png'}, 'primary': True}], 'referralId': 'v-1538669189', 'hasPerk': False}, {'id': '52c57cc911d2dba4b2352f65', 'name': 'Paul French Patisserie', 'location': {'address': 'Covent Garden', 'lat': 51.50874757272907, 'lng': -0.125692708585204, 'labeledLatLngs': [{'label': 'display', 'lat': 51.50874757272907, 'lng': -0.125692708585204}], 'distance': 511, 'cc': 'GB', 'country': 'United Kingdom', 'formattedAddress': ['Covent Garden', 'United Kingdom']}, 'categories': [{'id': '4bf58dd8d48988d10c941735', 'name': 'French Restaurant', 'pluralName': 'French Restaurants', 'shortName': 'French', 'icon': {'prefix': 'https://ss3.4sqi.net/img/categories_v2/food/french_', 'suffix': '.png'}, 'primary': True}], 'referralId': 'v-1538669189', 'hasPerk': False}, {'id': '58e8796103e29a5eef0e269c', 'name': 'RoseWood French Polishers', 'location': {'address': '58 Curzon Avenue London', 'crossStreet': '58 Curzon Avenue', 'lat': 51.507310096187, 'lng': -0.12761414051055908, 'labeledLatLngs': [{'label': 'display', 'lat': 51.507310096187, 'lng': -0.12761414051055908}], 'distance': 715, 'postalCode': 'EN3 4UE', 'cc': 'GB', 'city': 'London', 'state': 'Greater London', 'country': 'United Kingdom', 'formattedAddress': ['58 Curzon Avenue London (58 Curzon Avenue)', 'London', 'Greater London', 'EN3 4UE', 'United Kingdom']}, 'categories': [{'id': '5453de49498eade8af355881', 'name': 'Business Service', 'pluralName': 'Business Services', 'shortName': 'Business Services', 'icon': {'prefix': 'https://ss3.4sqi.net/img/categories_v2/building/default_', 'suffix': '.png'}, 'primary': True}], 'referralId': 'v-1538669189', 'hasPerk': False}, {'id': '565f2b25498e7f70c2c77fa6', 'name': 'Frenchie', 'location': {'address': '16 Henrietta St', 'lat': 51.51090792982199, 'lng': -0.12403516982483498, 'labeledLatLngs': [{'label': 'display', 'lat': 51.51090792982199, 'lng': -0.12403516982483498}], 'distance': 245, 'postalCode': 'WC2E 8QH', 'cc': 'GB', 'city': 'London', 'state': 'Greater London', 'country': 'United Kingdom', 'formattedAddress': ['16 Henrietta St', 'London', 'Greater London', 'WC2E 8QH', 'United Kingdom']}, 'categories': [{'id': '4bf58dd8d48988d10c941735', 'name': 'French Restaurant', 'pluralName': 'French Restaurants', 'shortName': 'French', 'icon': {'prefix': 'https://ss3.4sqi.net/img/categories_v2/food/french_', 'suffix': '.png'}, 'primary': True}], 'referralId': 'v-1538669189', 'hasPerk': False}, {'id': '53f33ca7498efdaea7681857', 'name': 'frenchologie', 'location': {'address': '53 Monmouth Street', 'crossStreet': 'Covent Garden', 'lat': 51.51383794409655, 'lng': -0.12542926635435617, 'labeledLatLngs': [{'label': 'display', 'lat': 51.51383794409655, 'lng': -0.12542926635435617}], 'distance': 226, 'cc': 'GB', 'city': 'London', 'state': 'Greater London', 'country': 'United Kingdom', 'formattedAddress': ['53 Monmouth Street (Covent Garden)', 'London', 'Greater London', 'United Kingdom']}, 'categories': [{'id': '4bf58dd8d48988d104951735', 'name': 'Boutique', 'pluralName': 'Boutiques', 'shortName': 'Boutique', 'icon': {'prefix': 'https://ss3.4sqi.net/img/categories_v2/shops/apparel_boutique_', 'suffix': '.png'}, 'primary': True}], 'referralId': 'v-1538669189', 'hasPerk': False}, {'id': '59f5bc77c666666b3161d09d', 'name': 'The Frenchie', 'location': {'address': 'Southbank Food Market', 'lat': 51.505406, 'lng': -0.116646, 'labeledLatLngs': [{'label': 'display', 'lat': 51.505406, 'lng': -0.116646}], 'distance': 928, 'postalCode': 'SE1', 'cc': 'GB', 'city': 'London', 'state': 'Greater London', 'country': 'United Kingdom', 'formattedAddress': ['Southbank Food Market', 'London', 'Greater London', 'SE1', 'United Kingdom']}, 'categories': [{'id': '56aa371be4b08b9a8d57350b', 'name': 'Food Stand', 'pluralName': 'Food Stands', 'shortName': 'Food Stand', 'icon': {'prefix': 'https://ss3.4sqi.net/img/categories_v2/travel/movingtarget_', 'suffix': '.png'}, 'primary': True}], 'referralId': 'v-1538669189', 'hasPerk': False}]}}\n"
     ]
    }
   ],
   "source": [
    "fran_results = requests.get(fran_url).json()\n",
    "jap_results = requests.get(jap_url).json()\n",
    "italian_results = requests.get(italian_url).json()\n",
    "brasilian_results = requests.get(brasilian_url).json()\n",
    "\n",
    "print(fran_results)"
   ]
  },
  {
   "cell_type": "markdown",
   "metadata": {},
   "source": [
    "## Transforming data from foursquare to dataframe to build graphcs and Results Report"
   ]
  },
  {
   "cell_type": "code",
   "execution_count": 39,
   "metadata": {},
   "outputs": [
    {
     "name": "stdout",
     "output_type": "stream",
     "text": [
      "0                                   French House\n",
      "1    French Chamber of Commerce in Great Britain\n",
      "2                              French Connection\n",
      "Name: name, dtype: object\n"
     ]
    }
   ],
   "source": [
    "fran_venues = fran_results['response']['venues']\n",
    "fran_dataframe = json_normalize(fran_venues)\n",
    "\n",
    "fran_filtered_columns = ['name', 'categories'] + [col for col in fran_dataframe.columns if col.startswith('location.')] + ['id']\n",
    "fran_dataframe_filtered = fran_dataframe.loc[:,fran_filtered_columns]\n",
    "\n",
    "def get_category_type(row):\n",
    "    try:\n",
    "        categories_list = row['categories']\n",
    "    except:\n",
    "        categories_list = row['venue.categories']\n",
    "        \n",
    "    if len(categories_list) == 0:\n",
    "        return None\n",
    "    else:\n",
    "        \n",
    "        return categories_list[0]['name']\n",
    "fran_dataframe_filtered['categories'] = fran_dataframe_filtered.apply(get_category_type, axis=1) \n",
    "\n",
    "fran_dataframe_filtered.columns = [column.split('.')[-1] for column in fran_dataframe_filtered.columns]\n",
    "\n",
    "print(fran_dataframe_filtered['name'].head(3))"
   ]
  },
  {
   "cell_type": "code",
   "execution_count": 40,
   "metadata": {},
   "outputs": [
    {
     "name": "stdout",
     "output_type": "stream",
     "text": [
      "0                     Pub\n",
      "1                Building\n",
      "2          Clothing Store\n",
      "3          Clothing Store\n",
      "4               Gastropub\n",
      "5                  Church\n",
      "6     Government Building\n",
      "7       French Restaurant\n",
      "8        Business Service\n",
      "9       French Restaurant\n",
      "10               Boutique\n",
      "11             Food Stand\n",
      "Name: categories, dtype: object\n"
     ]
    }
   ],
   "source": [
    "print(fran_dataframe_filtered['categories'])"
   ]
  },
  {
   "cell_type": "code",
   "execution_count": null,
   "metadata": {},
   "outputs": [],
   "source": []
  },
  {
   "cell_type": "code",
   "execution_count": 41,
   "metadata": {},
   "outputs": [
    {
     "name": "stdout",
     "output_type": "stream",
     "text": [
      "0                                 Japanese Canteen\n",
      "1                              Kintan Japanese BBQ\n",
      "2    The Mitsubishi Corporation Japanese Galleries\n",
      "Name: name, dtype: object\n"
     ]
    }
   ],
   "source": [
    "jap_venues = jap_results['response']['venues']\n",
    "jap_dataframe = json_normalize(jap_venues)\n",
    "\n",
    "jap_filtered_columns = ['name', 'categories'] + [col for col in jap_dataframe.columns if col.startswith('location.')] + ['id']\n",
    "jap_dataframe_filtered = jap_dataframe.loc[:,jap_filtered_columns]\n",
    "\n",
    "def get_category_type(row):\n",
    "    try:\n",
    "        categories_list = row['categories']\n",
    "    except:\n",
    "        categories_list = row['venue.categories']\n",
    "        \n",
    "    if len(categories_list) == 0:\n",
    "        return None\n",
    "    else:\n",
    "        \n",
    "        return categories_list[0]['name']\n",
    "jap_dataframe_filtered['categories'] = jap_dataframe_filtered.apply(get_category_type, axis=1) \n",
    "\n",
    "jap_dataframe_filtered.columns = [column.split('.')[-1] for column in jap_dataframe_filtered.columns]\n",
    "\n",
    "print(jap_dataframe_filtered['name'].head(3))"
   ]
  },
  {
   "cell_type": "code",
   "execution_count": null,
   "metadata": {},
   "outputs": [],
   "source": []
  },
  {
   "cell_type": "code",
   "execution_count": 42,
   "metadata": {},
   "outputs": [
    {
     "name": "stdout",
     "output_type": "stream",
     "text": [
      "0        Japanese Restaurant\n",
      "1        Japanese Restaurant\n",
      "2                    Exhibit\n",
      "3               Dessert Shop\n",
      "4             Massage Studio\n",
      "5         Miscellaneous Shop\n",
      "6        Japanese Restaurant\n",
      "7        Japanese Restaurant\n",
      "8        Japanese Restaurant\n",
      "9           Sushi Restaurant\n",
      "10         Korean Restaurant\n",
      "11       Japanese Restaurant\n",
      "12       Japanese Restaurant\n",
      "13    Okonomiyaki Restaurant\n",
      "14        Miscellaneous Shop\n",
      "15       Japanese Restaurant\n",
      "Name: categories, dtype: object\n"
     ]
    }
   ],
   "source": [
    "print(jap_dataframe_filtered['categories'])"
   ]
  },
  {
   "cell_type": "code",
   "execution_count": null,
   "metadata": {},
   "outputs": [],
   "source": []
  },
  {
   "cell_type": "code",
   "execution_count": 43,
   "metadata": {},
   "outputs": [
    {
     "name": "stdout",
     "output_type": "stream",
     "text": [
      "0     Jamie's Italian\n",
      "1    Italian Bookshop\n",
      "2    National Gallery\n",
      "Name: name, dtype: object\n"
     ]
    }
   ],
   "source": [
    "italian_venues = italian_results['response']['venues']\n",
    "italian_dataframe = json_normalize(italian_venues)\n",
    "\n",
    "italian_filtered_columns = ['name', 'categories'] + [col for col in italian_dataframe.columns if col.startswith('location.')] + ['id']\n",
    "italian_dataframe_filtered = italian_dataframe.loc[:,italian_filtered_columns]\n",
    "\n",
    "def get_category_type(row):\n",
    "    try:\n",
    "        categories_list = row['categories']\n",
    "    except:\n",
    "        categories_list = row['venue.categories']\n",
    "        \n",
    "    if len(categories_list) == 0:\n",
    "        return None\n",
    "    else:\n",
    "        \n",
    "        return categories_list[0]['name']\n",
    "italian_dataframe_filtered['categories'] = italian_dataframe_filtered.apply(get_category_type, axis=1) \n",
    "\n",
    "italian_dataframe_filtered.columns = [column.split('.')[-1] for column in italian_dataframe_filtered.columns]\n",
    "\n",
    "print(italian_dataframe_filtered['name'].head(3))\n"
   ]
  },
  {
   "cell_type": "code",
   "execution_count": null,
   "metadata": {},
   "outputs": [],
   "source": []
  },
  {
   "cell_type": "code",
   "execution_count": 44,
   "metadata": {},
   "outputs": [
    {
     "name": "stdout",
     "output_type": "stream",
     "text": [
      "0        Japanese Restaurant\n",
      "1        Japanese Restaurant\n",
      "2                    Exhibit\n",
      "3               Dessert Shop\n",
      "4             Massage Studio\n",
      "5         Miscellaneous Shop\n",
      "6        Japanese Restaurant\n",
      "7        Japanese Restaurant\n",
      "8        Japanese Restaurant\n",
      "9           Sushi Restaurant\n",
      "10         Korean Restaurant\n",
      "11       Japanese Restaurant\n",
      "12       Japanese Restaurant\n",
      "13    Okonomiyaki Restaurant\n",
      "14        Miscellaneous Shop\n",
      "15       Japanese Restaurant\n",
      "Name: categories, dtype: object\n"
     ]
    }
   ],
   "source": [
    "print(jap_dataframe_filtered['categories'])"
   ]
  },
  {
   "cell_type": "code",
   "execution_count": null,
   "metadata": {},
   "outputs": [],
   "source": []
  },
  {
   "cell_type": "code",
   "execution_count": 45,
   "metadata": {},
   "outputs": [
    {
     "name": "stdout",
     "output_type": "stream",
     "text": [
      "0    Dancemyway Latin Brazilian Dance Company\n",
      "1                               Rodízio Preto\n",
      "Name: name, dtype: object\n"
     ]
    }
   ],
   "source": [
    "brasilian_venues = brasilian_results['response']['venues']\n",
    "brasilian_dataframe = json_normalize(brasilian_venues)\n",
    "\n",
    "brasilian_filtered_columns = ['name', 'categories'] + [col for col in brasilian_dataframe.columns if col.startswith('location.')] + ['id']\n",
    "brasilian_dataframe_filtered = brasilian_dataframe.loc[:,brasilian_filtered_columns]\n",
    "\n",
    "def get_category_type(row):\n",
    "    try:\n",
    "        categories_list = row['categories']\n",
    "    except:\n",
    "        categories_list = row['venue.categories']\n",
    "        \n",
    "    if len(categories_list) == 0:\n",
    "        return None\n",
    "    else:\n",
    "        \n",
    "        return categories_list[0]['name']\n",
    "brasilian_dataframe_filtered['categories'] = brasilian_dataframe_filtered.apply(get_category_type, axis=1) \n",
    "\n",
    "brasilian_dataframe_filtered.columns = [column.split('.')[-1] for column in brasilian_dataframe_filtered.columns]\n",
    "\n",
    "print(brasilian_dataframe_filtered['name'].head(3))"
   ]
  },
  {
   "cell_type": "code",
   "execution_count": null,
   "metadata": {},
   "outputs": [],
   "source": []
  },
  {
   "cell_type": "code",
   "execution_count": 47,
   "metadata": {},
   "outputs": [
    {
     "name": "stdout",
     "output_type": "stream",
     "text": [
      "0            Dance Studio\n",
      "1    Brazilian Restaurant\n",
      "Name: categories, dtype: object\n"
     ]
    }
   ],
   "source": [
    "print(brasilian_dataframe_filtered['categories'])"
   ]
  },
  {
   "cell_type": "code",
   "execution_count": null,
   "metadata": {},
   "outputs": [],
   "source": []
  },
  {
   "cell_type": "code",
   "execution_count": null,
   "metadata": {},
   "outputs": [],
   "source": []
  },
  {
   "cell_type": "markdown",
   "metadata": {},
   "source": [
    "## Generating MAP of restaurant near from convent Garden London England"
   ]
  },
  {
   "cell_type": "code",
   "execution_count": 52,
   "metadata": {},
   "outputs": [
    {
     "data": {
      "text/html": [
       "<div style=\"width:100%;\"><div style=\"position:relative;width:100%;height:0;padding-bottom:60%;\"><iframe src=\"data:text/html;charset=utf-8;base64,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\" style=\"position:absolute;width:100%;height:100%;left:0;top:0;border:none !important;\" allowfullscreen webkitallowfullscreen mozallowfullscreen></iframe></div></div>"
      ],
      "text/plain": [
       "<folium.folium.Map at 0x7f439a5d2898>"
      ]
     },
     "execution_count": 52,
     "metadata": {},
     "output_type": "execute_result"
    }
   ],
   "source": [
    "Vnus_map = folium.Map(location=[latitude, longitude], zoom_start=14) # generate a map centred around of the Conrad Hotel\n",
    "# and also i am add a red circle marker to represent the Conrad Hotel\n",
    "folium.features.CircleMarker(\n",
    "    [latitude, longitude],\n",
    "    radius=200,\n",
    "    color='blue',\n",
    "    popup='Radio of Covent Garden',\n",
    "    fill = True,\n",
    "    fill_color = 'white',\n",
    "    fill_opacity = 0.6\n",
    ").add_to(Vnus_map)\n",
    "\n",
    "#  Japanese restaurants as blue circle markers\n",
    "for lat, lng, label in zip(jap_dataframe_filtered.lat, jap_dataframe_filtered.lng, jap_dataframe_filtered.categories):\n",
    "    folium.features.CircleMarker(\n",
    "        [lat, lng],\n",
    "        radius=5,\n",
    "        color='blue',\n",
    "        popup=label,\n",
    "        fill = True,\n",
    "        fill_color='blue',\n",
    "        fill_opacity=0.6\n",
    "    ).add_to(Vnus_map)\n",
    "    \n",
    "#  Thai restaurants as red circle markers\n",
    "for lat, lng, label in zip(fran_dataframe_filtered.lat, fran_dataframe_filtered.lng, fran_dataframe_filtered.categories):\n",
    "    folium.features.CircleMarker(\n",
    "        [lat, lng],\n",
    "        radius=5,\n",
    "        color='red',\n",
    "        popup=label,\n",
    "        fill = True,\n",
    "        fill_color='red',\n",
    "        fill_opacity=0.6\n",
    "    ).add_to(Vnus_map)\n",
    "    \n",
    "#  Chinese restaurants as green circle markers\n",
    "for lat, lng, label in zip(brasilian_dataframe_filtered.lat, brasilian_dataframe_filtered.lng, brasilian_dataframe_filtered.categories):\n",
    "    folium.features.CircleMarker(\n",
    "        [lat, lng],\n",
    "        radius=5,\n",
    "        color='green',\n",
    "        popup=label,\n",
    "        fill = True,\n",
    "        fill_color='green',\n",
    "        fill_opacity=0.6\n",
    "    ).add_to(Vnus_map)\n",
    "    \n",
    "#  Italian restaurants as yellow circle markers\n",
    "for lat, lng, label in zip(italian_dataframe_filtered.lat, italian_dataframe_filtered.lng, italian_dataframe_filtered.categories):\n",
    "    folium.features.CircleMarker(\n",
    "        [lat, lng],\n",
    "        radius=5,\n",
    "        color='yellow',\n",
    "        popup=label,\n",
    "        fill = True,\n",
    "        fill_color='yellow',\n",
    "        fill_opacity=0.6\n",
    "    ).add_to(Vnus_map)\n",
    "\n",
    "# display map\n",
    "Vnus_map"
   ]
  },
  {
   "cell_type": "markdown",
   "metadata": {},
   "source": [
    "## Transforming the data distance to distance between restaurant's near from Covent Garden"
   ]
  },
  {
   "cell_type": "code",
   "execution_count": 58,
   "metadata": {},
   "outputs": [
    {
     "data": {
      "text/html": [
       "<div>\n",
       "<style scoped>\n",
       "    .dataframe tbody tr th:only-of-type {\n",
       "        vertical-align: middle;\n",
       "    }\n",
       "\n",
       "    .dataframe tbody tr th {\n",
       "        vertical-align: top;\n",
       "    }\n",
       "\n",
       "    .dataframe thead th {\n",
       "        text-align: right;\n",
       "    }\n",
       "</style>\n",
       "<table border=\"1\" class=\"dataframe\">\n",
       "  <thead>\n",
       "    <tr style=\"text-align: right;\">\n",
       "      <th></th>\n",
       "      <th>name</th>\n",
       "      <th>distance</th>\n",
       "      <th>id</th>\n",
       "    </tr>\n",
       "    <tr>\n",
       "      <th>type</th>\n",
       "      <th></th>\n",
       "      <th></th>\n",
       "      <th></th>\n",
       "    </tr>\n",
       "  </thead>\n",
       "  <tbody>\n",
       "    <tr>\n",
       "      <th>brasilian</th>\n",
       "      <td>2</td>\n",
       "      <td>2</td>\n",
       "      <td>2</td>\n",
       "    </tr>\n",
       "    <tr>\n",
       "      <th>french</th>\n",
       "      <td>12</td>\n",
       "      <td>12</td>\n",
       "      <td>12</td>\n",
       "    </tr>\n",
       "    <tr>\n",
       "      <th>italian</th>\n",
       "      <td>24</td>\n",
       "      <td>24</td>\n",
       "      <td>24</td>\n",
       "    </tr>\n",
       "    <tr>\n",
       "      <th>japanese</th>\n",
       "      <td>16</td>\n",
       "      <td>16</td>\n",
       "      <td>16</td>\n",
       "    </tr>\n",
       "  </tbody>\n",
       "</table>\n",
       "</div>"
      ],
      "text/plain": [
       "           name  distance  id\n",
       "type                         \n",
       "brasilian     2         2   2\n",
       "french       12        12  12\n",
       "italian      24        24  24\n",
       "japanese     16        16  16"
      ]
     },
     "execution_count": 58,
     "metadata": {},
     "output_type": "execute_result"
    }
   ],
   "source": [
    "jap_dataframe_filtered['type'] = 'japanese'\n",
    "fran_dataframe_filtered['type'] = 'french'\n",
    "brasilian_dataframe_filtered['type'] = 'brasilian'\n",
    "italian_dataframe_filtered['type'] = 'italian'\n",
    "\n",
    "AllnoRes = pd.DataFrame()\n",
    "AllnoRes = pd.concat([jap_dataframe_filtered,fran_dataframe_filtered,brasilian_dataframe_filtered,italian_dataframe_filtered])\n",
    "AllnoResList = AllnoRes[['name','distance', 'type','id']]\n",
    "AllnoResList.groupby('type').count()"
   ]
  },
  {
   "cell_type": "markdown",
   "metadata": {},
   "source": [
    "## Number of Restaurants near from Convent Garden graphic numbers."
   ]
  },
  {
   "cell_type": "code",
   "execution_count": 68,
   "metadata": {},
   "outputs": [
    {
     "data": {
      "image/png": "[encoded data removed]",
      "text/plain": [
       "<Figure size 432x288 with 1 Axes>"
      ]
     },
     "metadata": {},
     "output_type": "display_data"
    }
   ],
   "source": [
    "import matplotlib.pyplot as plt\n",
    "AllnoResList.groupby('type')['name'].count().plot(kind = 'barh')\n",
    "plt.title('Number of Restaurants around Convent Garden Londres')\n",
    "plt.xlabel('Type of Restaurant')\n",
    "plt.show()"
   ]
  },
  {
   "cell_type": "markdown",
   "metadata": {},
   "source": [
    "## Generating the distance of each restaurant near from Convent Garden:"
   ]
  },
  {
   "cell_type": "code",
   "execution_count": 62,
   "metadata": {},
   "outputs": [
    {
     "data": {
      "text/plain": [
       "type\n",
       "brasilian    410.500000\n",
       "french       510.250000\n",
       "italian      482.916667\n",
       "japanese     627.812500\n",
       "Name: distance, dtype: float64"
      ]
     },
     "execution_count": 62,
     "metadata": {},
     "output_type": "execute_result"
    }
   ],
   "source": [
    "avgDistance = AllnoResList.groupby('type')['distance'].mean()\n",
    "avgDistance"
   ]
  },
  {
   "cell_type": "code",
   "execution_count": null,
   "metadata": {},
   "outputs": [],
   "source": [
    "## Generating graphic of distance from each restaurant near from Convent Garden:"
   ]
  },
  {
   "cell_type": "code",
   "execution_count": 67,
   "metadata": {},
   "outputs": [
    {
     "data": {
      "image/png": "[encoded data removed]",
      "text/plain": [
       "<Figure size 432x288 with 1 Axes>"
      ]
     },
     "metadata": {},
     "output_type": "display_data"
    }
   ],
   "source": [
    "avgDistance.plot(kind = 'barh')\n",
    "plt.title('Average Distance around Convent Garden in london ')\n",
    "plt.xlabel('Type of Restaurant')\n",
    "plt.show()"
   ]
  },
  {
   "cell_type": "markdown",
   "metadata": {},
   "source": [
    "# Conclusion of Project"
   ]
  },
  {
   "cell_type": "markdown",
   "metadata": {},
   "source": [
    "I was able to identify all the data necessary to know how what is the most popular restaurant on that region and and what restaurant is near from Convent Garden, with this data I can now plan my project business to open a New restaurant to clients and local Residents."
   ]
  },
  {
   "cell_type": "markdown",
   "metadata": {},
   "source": [
    "So using the data, the most popular restaurant is: Italian, followed by Japonese and french, in the last place brasilian food. so with this information we can proceed open a brasilian restaurant near from Convent garden."
   ]
  },
  {
   "cell_type": "markdown",
   "metadata": {},
   "source": [
    "Note: The business problem here is clear that no have much choice to clients, or they will eat japonese food or italian food or will need walk a lond time to  find another type of food. "
   ]
  },
  {
   "cell_type": "markdown",
   "metadata": {},
   "source": [
    "Solution: open More restaurants with different types of food near from Convent garden, using the data visualizarion generated by this exercice to build a business plan or  project plan."
   ]
  }
 ],
 "metadata": {
  "kernelspec": {
   "display_name": "Python 3",
   "language": "python",
   "name": "python3"
  },
  "language_info": {
   "codemirror_mode": {
    "name": "ipython",
    "version": 3
   },
   "file_extension": ".py",
   "mimetype": "text/x-python",
   "name": "python",
   "nbconvert_exporter": "python",
   "pygments_lexer": "ipython3",
   "version": "3.6.5"
  }
 },
 "nbformat": 4,
 "nbformat_minor": 2
}
