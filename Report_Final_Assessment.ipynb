{
 "cells": [
  {
   "cell_type": "markdown",
   "metadata": {},
   "source": [
    "# REPORT OF BUSINESS CAPSTONE PROJECT - WEEK 2"
   ]
  },
  {
   "cell_type": "markdown",
   "metadata": {},
   "source": [
    "## Project: Opportunity to open new Restaurant around Covent Garden in London England "
   ]
  },
  {
   "cell_type": "markdown",
   "metadata": {},
   "source": [
    "## Introduction"
   ]
  },
  {
   "cell_type": "markdown",
   "metadata": {},
   "source": [
    "City Target: London  Country Target: England\n",
    "\n",
    "Summary of Place:\n",
    "Covent Garden is a district of London, England, located in the most easterly parts of the city of Westminster, and in the south-west corner of London's borough of Camden. The area is dominated by shopping, shopping and entertainment venues, as well as street performances\n",
    "\n",
    "Everyday people must be eat food , it's basic factors for living specially when you are visiting another country like London \n",
    "lot of restaurant open and close a lot for 2 years , Now a lot of them still open but if it already have it a lot, is it still have an opportunity to open new restaurant into Covent Garden or around. so this is my my project \"Opportunity to open new restaurant into Covent Garden in London\"\n"
   ]
  },
  {
   "cell_type": "markdown",
   "metadata": {},
   "source": [
    "# Business Problem : \n"
   ]
  },
  {
   "cell_type": "markdown",
   "metadata": {},
   "source": [
    "Business Problem that Need to be Solved by items and as all: \n",
    "    \n",
    "Below is the list in question to be solve:\n",
    "    \n",
    "1. Where is the location for open new restaurant ??\n",
    "\n",
    "2. What is popular food for tour or resident ?\n",
    "\n",
    "3. How many is restaurant around Covent Garden ?\n",
    "\n",
    "4. How many kind of restaurant around Covent Garden?\n"
   ]
  },
  {
   "cell_type": "markdown",
   "metadata": {},
   "source": [
    "# Data that need be found:"
   ]
  },
  {
   "cell_type": "markdown",
   "metadata": {},
   "source": [
    "the data will have API FOURSQUARE as the principal item and use geopy to get the location:\n",
    "\n",
    "My project \"Opportunity to open new restaurant around Covent Garden London \".\n",
    "\n",
    "Below is the list of necessary data to get the results:\n",
    "    \n",
    "1. Data number of restaurant around Covent Garden.\n",
    "2. Data location restaurant around Covent Garden.\n",
    "3. Data number of tourist or local residents on Covent Garden (effect to size of restaurant ) . \n",
    "4. Data kind of popular food from Covent Garden. \n",
    "5. Trends of demands food from Covent Garden. \n"
   ]
  },
  {
   "cell_type": "markdown",
   "metadata": {},
   "source": [
    "# Results:"
   ]
  },
  {
   "cell_type": "markdown",
   "metadata": {},
   "source": [
    "### Data Summary:"
   ]
  },
  {
   "cell_type": "markdown",
   "metadata": {},
   "source": [
    "\n",
    "1- Number of Restaurants near from Convent Garden - London\n",
    "\n",
    "<img src='../Battle1/restaurants.png'>\n",
    "\n",
    "| Type food | NO. |     \n",
    "|-----------|-----|\n",
    "| brasilian | 2   |\n",
    "| french    | 12  |\n",
    "| italian   | 24  |\n",
    "| japanese  | 16  |\n"
   ]
  },
  {
   "cell_type": "markdown",
   "metadata": {},
   "source": [
    "\n",
    "\n",
    "\n",
    "\n",
    "\n",
    "2-Average of distance of each restaurant near from Convent Garden London\n",
    "\n",
    "<img src='../Battle1/distance.png'>\n",
    "\n",
    "| Type food | Distance |     \n",
    "|-----------|----------|\n",
    "| brasilian | 410.50   |\n",
    "| french    | 510.25   |\n",
    "| italian   | 482.91   |\n",
    "| japanese  | 627.81   |"
   ]
  },
  {
   "cell_type": "markdown",
   "metadata": {},
   "source": [
    "3 - Map With Visualization of Restaurants near from Covent Gargen London"
   ]
  },
  {
   "cell_type": "markdown",
   "metadata": {},
   "source": [
    "<img src='../Battle1/map.png'>\n",
    "\n",
    "| Color     | Legend   |     \n",
    "|-----------|----------|\n",
    "| Yello     | Italian  |\n",
    "| Green     | Brasilian|\n",
    "| Red       | French   |\n",
    "| blue      | Japonese |\n"
   ]
  },
  {
   "cell_type": "markdown",
   "metadata": {},
   "source": [
    "# Conclusion of Project"
   ]
  },
  {
   "cell_type": "markdown",
   "metadata": {},
   "source": [
    "I was able to identify all the data necessary to know how what is the most popular restaurant on that region and and what restaurant is near from Convent Garden, with this data I can now plan my project business to open a New restaurant to clients and local Residents.\n",
    "\n",
    "So using the data, the most popular restaurant is: Italian, followed by Japonese and french, in the last place brasilian food. so with this information we can proceed open a brasilian restaurant near from Convent garden.\n",
    "\n",
    "Note: The business problem here is clear that no have much choice to clients, or they will eat japonese food or italian food or will need walk a lond time to find another type of food.\n",
    "\n",
    "Solution: open More restaurants with different types of food near from Convent garden, using the data visualizarion generated by this exercice to build a business plan or project plan.\n"
   ]
  },
  {
   "cell_type": "code",
   "execution_count": null,
   "metadata": {},
   "outputs": [],
   "source": []
  }
 ],
 "metadata": {
  "kernelspec": {
   "display_name": "Python 3",
   "language": "python",
   "name": "python3"
  },
  "language_info": {
   "codemirror_mode": {
    "name": "ipython",
    "version": 3
   },
   "file_extension": ".py",
   "mimetype": "text/x-python",
   "name": "python",
   "nbconvert_exporter": "python",
   "pygments_lexer": "ipython3",
   "version": "3.6.5"
  }
 },
 "nbformat": 4,
 "nbformat_minor": 2
}
